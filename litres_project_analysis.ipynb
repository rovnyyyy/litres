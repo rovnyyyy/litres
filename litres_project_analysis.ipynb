{
 "cells": [
  {
   "cell_type": "markdown",
   "id": "e06910dd",
   "metadata": {
    "id": "e06910dd"
   },
   "source": [
    "## Проверка гипотезы и составление аналитической записки\n",
    "\n",
    "- Автор: Максим Ровный "
   ]
  },
  {
   "cell_type": "markdown",
   "id": "4149134c",
   "metadata": {
    "id": "4149134c"
   },
   "source": [
    "## Цели и задачи проекта\n",
    "\n",
    "* Проверка гипотезы в Python и составление аналитической записки\n",
    "    * Проверка гипотезы, что пользователи из Санкт-Петербурга проводят в среднем больше времени за чтением и прослушиванием книг в приложении, чем пользователи из Москвы. Для проверки данной гипотезы будет применена односторонняя проверка с двумя выборками.\n",
    "        * Нулевая гипотеза $H_0: \\mu_{\\text{СПб}} \\leq \\mu_{\\text{Москва}}$ <br> Среднее время активности пользователей в Санкт-Петербурге не больше, чем в Москве.\n",
    "        * Альтернативная гипотеза $H_1: \\mu_{\\text{СПб}} > \\mu_{\\text{Москва}}$ <br> Среднее время активности пользователей в Санкт-Петербурге больше, и это различие статистически значимо.\n",
    "    * Выгрузить данные из заранее предобработанного датасета в SQL\n",
    "    * Провести предобработку данных, удалить лишние столбцы, проверить на наличие явных дубликатов, сгруппировать данные по пользователям "
   ]
  },
  {
   "cell_type": "markdown",
   "id": "728986ea",
   "metadata": {
    "id": "728986ea"
   },
   "source": [
    "## Описание данных\n",
    "'/datasets/litres_data.csv'\n",
    "* city - город пользователя;\n",
    "* puid - уникальный идентификатор пользователя;\n",
    "* hours - суммарное количество часов, проведённых пользователем за чтением и прослушиванием книг в приложении."
   ]
  },
  {
   "cell_type": "markdown",
   "id": "4fecaf95",
   "metadata": {
    "id": "4fecaf95"
   },
   "source": [
    "## Содержимое проекта\n",
    "\n",
    "1. Загрузка данных и предобработка. \n",
    "2. Проверка гипотезы в Python.\n",
    "3. Аналитическая записка."
   ]
  },
  {
   "cell_type": "markdown",
   "id": "6f7d21d6",
   "metadata": {
    "id": "6f7d21d6"
   },
   "source": [
    "## 1. Загрузка данных и знакомство с ними\n",
    "\n",
    "Загрузим данные пользователей из Москвы и Санкт-Петербурга c их активностью (суммой часов чтения и прослушивания)"
   ]
  },
  {
   "cell_type": "code",
   "execution_count": 10,
   "id": "05faf34b",
   "metadata": {
    "id": "05faf34b"
   },
   "outputs": [],
   "source": [
    "import pandas as pd"
   ]
  },
  {
   "cell_type": "code",
   "execution_count": 11,
   "id": "ce87c1db",
   "metadata": {
    "id": "ce87c1db"
   },
   "outputs": [],
   "source": [
    "df_litres_data = pd.read_csv('/data/litres_data.csv')"
   ]
  },
  {
   "cell_type": "code",
   "execution_count": 12,
   "id": "324d5fb9",
   "metadata": {},
   "outputs": [
    {
     "name": "stdout",
     "output_type": "stream",
     "text": [
      "<class 'pandas.core.frame.DataFrame'>\n",
      "RangeIndex: 8784 entries, 0 to 8783\n",
      "Data columns (total 4 columns):\n",
      " #   Column      Non-Null Count  Dtype  \n",
      "---  ------      --------------  -----  \n",
      " 0   Unnamed: 0  8784 non-null   int64  \n",
      " 1   city        8784 non-null   object \n",
      " 2   puid        8784 non-null   int64  \n",
      " 3   hours       8784 non-null   float64\n",
      "dtypes: float64(1), int64(2), object(1)\n",
      "memory usage: 274.6+ KB\n"
     ]
    },
    {
     "data": {
      "text/plain": [
       "None"
      ]
     },
     "metadata": {},
     "output_type": "display_data"
    }
   ],
   "source": [
    "display(df_litres_data.info())"
   ]
  },
  {
   "cell_type": "code",
   "execution_count": 13,
   "id": "f68a7419",
   "metadata": {
    "id": "f68a7419"
   },
   "outputs": [
    {
     "data": {
      "text/html": [
       "<div>\n",
       "<style scoped>\n",
       "    .dataframe tbody tr th:only-of-type {\n",
       "        vertical-align: middle;\n",
       "    }\n",
       "\n",
       "    .dataframe tbody tr th {\n",
       "        vertical-align: top;\n",
       "    }\n",
       "\n",
       "    .dataframe thead th {\n",
       "        text-align: right;\n",
       "    }\n",
       "</style>\n",
       "<table border=\"1\" class=\"dataframe\">\n",
       "  <thead>\n",
       "    <tr style=\"text-align: right;\">\n",
       "      <th></th>\n",
       "      <th>Unnamed: 0</th>\n",
       "      <th>city</th>\n",
       "      <th>puid</th>\n",
       "      <th>hours</th>\n",
       "    </tr>\n",
       "  </thead>\n",
       "  <tbody>\n",
       "    <tr>\n",
       "      <th>0</th>\n",
       "      <td>0</td>\n",
       "      <td>Москва</td>\n",
       "      <td>9668</td>\n",
       "      <td>26.167776</td>\n",
       "    </tr>\n",
       "    <tr>\n",
       "      <th>1</th>\n",
       "      <td>1</td>\n",
       "      <td>Москва</td>\n",
       "      <td>16598</td>\n",
       "      <td>82.111217</td>\n",
       "    </tr>\n",
       "    <tr>\n",
       "      <th>2</th>\n",
       "      <td>2</td>\n",
       "      <td>Москва</td>\n",
       "      <td>80401</td>\n",
       "      <td>4.656906</td>\n",
       "    </tr>\n",
       "    <tr>\n",
       "      <th>3</th>\n",
       "      <td>3</td>\n",
       "      <td>Москва</td>\n",
       "      <td>140205</td>\n",
       "      <td>1.840556</td>\n",
       "    </tr>\n",
       "    <tr>\n",
       "      <th>4</th>\n",
       "      <td>4</td>\n",
       "      <td>Москва</td>\n",
       "      <td>248755</td>\n",
       "      <td>151.326434</td>\n",
       "    </tr>\n",
       "  </tbody>\n",
       "</table>\n",
       "</div>"
      ],
      "text/plain": [
       "   Unnamed: 0    city    puid       hours\n",
       "0           0  Москва    9668   26.167776\n",
       "1           1  Москва   16598   82.111217\n",
       "2           2  Москва   80401    4.656906\n",
       "3           3  Москва  140205    1.840556\n",
       "4           4  Москва  248755  151.326434"
      ]
     },
     "metadata": {},
     "output_type": "display_data"
    }
   ],
   "source": [
    "display(df_litres_data.head())"
   ]
  },
  {
   "cell_type": "code",
   "execution_count": 14,
   "id": "119383bb",
   "metadata": {},
   "outputs": [],
   "source": [
    "# Удалим ненужный столбец 'Unnamed: 0'\n",
    "df_litres_data = df_litres_data.drop(columns=['Unnamed: 0'])"
   ]
  },
  {
   "cell_type": "code",
   "execution_count": 15,
   "id": "b4171d75",
   "metadata": {},
   "outputs": [
    {
     "data": {
      "text/plain": [
       "244"
      ]
     },
     "execution_count": 15,
     "metadata": {},
     "output_type": "execute_result"
    }
   ],
   "source": [
    "# Проверим на наличие дубликатов в идентификаторах пользователей\n",
    "df_litres_data['puid'].duplicated().sum()"
   ]
  },
  {
   "cell_type": "code",
   "execution_count": 16,
   "id": "f76a238c",
   "metadata": {},
   "outputs": [
    {
     "data": {
      "text/plain": [
       "0"
      ]
     },
     "execution_count": 16,
     "metadata": {},
     "output_type": "execute_result"
    }
   ],
   "source": [
    "# Проверим на наличие явных дубликатов\n",
    "df_litres_data.duplicated().sum()"
   ]
  },
  {
   "cell_type": "markdown",
   "id": "9690c322",
   "metadata": {},
   "source": [
    "Явные дубликаты не обнаружены, значит скорее всего, пользователи с одинаковым идентификатором совершали действия в разных городах."
   ]
  },
  {
   "cell_type": "code",
   "execution_count": 17,
   "id": "72227c85",
   "metadata": {},
   "outputs": [
    {
     "data": {
      "text/html": [
       "<div>\n",
       "<style scoped>\n",
       "    .dataframe tbody tr th:only-of-type {\n",
       "        vertical-align: middle;\n",
       "    }\n",
       "\n",
       "    .dataframe tbody tr th {\n",
       "        vertical-align: top;\n",
       "    }\n",
       "\n",
       "    .dataframe thead th {\n",
       "        text-align: right;\n",
       "    }\n",
       "</style>\n",
       "<table border=\"1\" class=\"dataframe\">\n",
       "  <thead>\n",
       "    <tr style=\"text-align: right;\">\n",
       "      <th></th>\n",
       "      <th>puid</th>\n",
       "      <th>hours</th>\n",
       "    </tr>\n",
       "  </thead>\n",
       "  <tbody>\n",
       "    <tr>\n",
       "      <th>0</th>\n",
       "      <td>9668</td>\n",
       "      <td>26.167776</td>\n",
       "    </tr>\n",
       "    <tr>\n",
       "      <th>1</th>\n",
       "      <td>16598</td>\n",
       "      <td>82.111217</td>\n",
       "    </tr>\n",
       "    <tr>\n",
       "      <th>2</th>\n",
       "      <td>80401</td>\n",
       "      <td>4.656906</td>\n",
       "    </tr>\n",
       "    <tr>\n",
       "      <th>3</th>\n",
       "      <td>104923</td>\n",
       "      <td>60.353889</td>\n",
       "    </tr>\n",
       "    <tr>\n",
       "      <th>4</th>\n",
       "      <td>140205</td>\n",
       "      <td>1.840556</td>\n",
       "    </tr>\n",
       "    <tr>\n",
       "      <th>...</th>\n",
       "      <td>...</td>\n",
       "      <td>...</td>\n",
       "    </tr>\n",
       "    <tr>\n",
       "      <th>8535</th>\n",
       "      <td>1130000059999641</td>\n",
       "      <td>0.081234</td>\n",
       "    </tr>\n",
       "    <tr>\n",
       "      <th>8536</th>\n",
       "      <td>1130000060143349</td>\n",
       "      <td>0.024736</td>\n",
       "    </tr>\n",
       "    <tr>\n",
       "      <th>8537</th>\n",
       "      <td>1130000060647736</td>\n",
       "      <td>0.209018</td>\n",
       "    </tr>\n",
       "    <tr>\n",
       "      <th>8538</th>\n",
       "      <td>1130000061443598</td>\n",
       "      <td>20.847222</td>\n",
       "    </tr>\n",
       "    <tr>\n",
       "      <th>8539</th>\n",
       "      <td>1130000065762132</td>\n",
       "      <td>0.609346</td>\n",
       "    </tr>\n",
       "  </tbody>\n",
       "</table>\n",
       "<p>8540 rows × 2 columns</p>\n",
       "</div>"
      ],
      "text/plain": [
       "                  puid      hours\n",
       "0                 9668  26.167776\n",
       "1                16598  82.111217\n",
       "2                80401   4.656906\n",
       "3               104923  60.353889\n",
       "4               140205   1.840556\n",
       "...                ...        ...\n",
       "8535  1130000059999641   0.081234\n",
       "8536  1130000060143349   0.024736\n",
       "8537  1130000060647736   0.209018\n",
       "8538  1130000061443598  20.847222\n",
       "8539  1130000065762132   0.609346\n",
       "\n",
       "[8540 rows x 2 columns]"
      ]
     },
     "execution_count": 17,
     "metadata": {},
     "output_type": "execute_result"
    }
   ],
   "source": [
    "# Группируем данные по идентификатору пользователя и суммируем время активности (часы).\n",
    "# Если после группировки количество дубликатов не уменьшится,\n",
    "# значит некоторые пользователи использовали приложение в двух разных городах.\n",
    "# Для корректности A/B-теста таких пользователей следует удалить,\n",
    "# чтобы обеспечить независимость групп по городам.\n",
    "df_litres_data.groupby('puid', as_index=False)['hours'].sum()"
   ]
  },
  {
   "cell_type": "code",
   "execution_count": 18,
   "id": "1bb068fd",
   "metadata": {},
   "outputs": [
    {
     "data": {
      "text/plain": [
       "244"
      ]
     },
     "execution_count": 18,
     "metadata": {},
     "output_type": "execute_result"
    }
   ],
   "source": [
    "# Проверим на наличие дубликатов в идентификаторах пользователей\n",
    "df_litres_data['puid'].duplicated().sum()"
   ]
  },
  {
   "cell_type": "markdown",
   "id": "5b96557c",
   "metadata": {},
   "source": [
    "Количество дубликатов по столбцу 'puid' осталось прежним. Для корректности A/B-теста таких пользователей следует удалить."
   ]
  },
  {
   "cell_type": "code",
   "execution_count": 20,
   "id": "45beea05",
   "metadata": {},
   "outputs": [],
   "source": [
    "# Посчитаем количество уникальных городов для каждого пользователя\n",
    "user_city_counts = df_litres_data.groupby('puid')['city'].nunique()\n",
    "multi_city_users = user_city_counts[user_city_counts > 1].index\n",
    "\n",
    "# Удалим пользователей с двумя городами из исходного датафрейма\n",
    "df_clean = df_litres_data[~df_litres_data['puid'].isin(multi_city_users)]"
   ]
  },
  {
   "cell_type": "markdown",
   "id": "1ec42fb4",
   "metadata": {},
   "source": [
    "Не будем использовать drop_duplicates, так как это не удалит всех дублирующихся по городу пользователей, а просто оставит первую попавшуюся строку для каждого puid"
   ]
  },
  {
   "cell_type": "code",
   "execution_count": 21,
   "id": "233ad718",
   "metadata": {},
   "outputs": [
    {
     "name": "stdout",
     "output_type": "stream",
     "text": [
      "8296\n"
     ]
    }
   ],
   "source": [
    "print(len(df_clean))"
   ]
  },
  {
   "cell_type": "code",
   "execution_count": 22,
   "id": "f0720742",
   "metadata": {},
   "outputs": [
    {
     "data": {
      "text/html": [
       "<div>\n",
       "<style scoped>\n",
       "    .dataframe tbody tr th:only-of-type {\n",
       "        vertical-align: middle;\n",
       "    }\n",
       "\n",
       "    .dataframe tbody tr th {\n",
       "        vertical-align: top;\n",
       "    }\n",
       "\n",
       "    .dataframe thead th {\n",
       "        text-align: right;\n",
       "    }\n",
       "</style>\n",
       "<table border=\"1\" class=\"dataframe\">\n",
       "  <thead>\n",
       "    <tr style=\"text-align: right;\">\n",
       "      <th></th>\n",
       "      <th>count</th>\n",
       "      <th>mean</th>\n",
       "      <th>std</th>\n",
       "      <th>min</th>\n",
       "      <th>25%</th>\n",
       "      <th>50%</th>\n",
       "      <th>75%</th>\n",
       "      <th>max</th>\n",
       "    </tr>\n",
       "    <tr>\n",
       "      <th>city</th>\n",
       "      <th></th>\n",
       "      <th></th>\n",
       "      <th></th>\n",
       "      <th></th>\n",
       "      <th></th>\n",
       "      <th></th>\n",
       "      <th></th>\n",
       "      <th></th>\n",
       "    </tr>\n",
       "  </thead>\n",
       "  <tbody>\n",
       "    <tr>\n",
       "      <th>Москва</th>\n",
       "      <td>5990.0</td>\n",
       "      <td>10.848192</td>\n",
       "      <td>36.925622</td>\n",
       "      <td>0.000022</td>\n",
       "      <td>0.057042</td>\n",
       "      <td>0.888232</td>\n",
       "      <td>5.933439</td>\n",
       "      <td>857.209373</td>\n",
       "    </tr>\n",
       "    <tr>\n",
       "      <th>Санкт-Петербург</th>\n",
       "      <td>2306.0</td>\n",
       "      <td>11.264433</td>\n",
       "      <td>39.831755</td>\n",
       "      <td>0.000025</td>\n",
       "      <td>0.060173</td>\n",
       "      <td>0.875355</td>\n",
       "      <td>6.138424</td>\n",
       "      <td>978.764775</td>\n",
       "    </tr>\n",
       "  </tbody>\n",
       "</table>\n",
       "</div>"
      ],
      "text/plain": [
       "                  count       mean        std       min       25%       50%  \\\n",
       "city                                                                          \n",
       "Москва           5990.0  10.848192  36.925622  0.000022  0.057042  0.888232   \n",
       "Санкт-Петербург  2306.0  11.264433  39.831755  0.000025  0.060173  0.875355   \n",
       "\n",
       "                      75%         max  \n",
       "city                                   \n",
       "Москва           5.933439  857.209373  \n",
       "Санкт-Петербург  6.138424  978.764775  "
      ]
     },
     "execution_count": 22,
     "metadata": {},
     "output_type": "execute_result"
    }
   ],
   "source": [
    "df_clean.groupby('city')['hours'].describe()"
   ]
  },
  {
   "cell_type": "markdown",
   "id": "038f7cbc",
   "metadata": {},
   "source": [
    "* В исходном датафрейме было 8540 строк \n",
    "* Пользователей с двумя городами 244 \n",
    "* В исправленном датафрейме 8296 строк"
   ]
  },
  {
   "cell_type": "markdown",
   "id": "956e82e2",
   "metadata": {
    "id": "956e82e2"
   },
   "source": [
    "## 2. Проверка гипотезы в Python\n",
    "\n",
    "Гипотеза звучит так: пользователи из Санкт-Петербурга проводят в среднем больше времени за чтением и прослушиванием книг в приложении, чем пользователи из Москвы. Попробуем статистически это доказать, используя одностороннюю проверку гипотезы с двумя выборками:\n",
    "\n",
    "- Нулевая гипотеза H₀: Средняя активность пользователей в часах в двух группах (Москва и Санкт-Петербург) не различается.\n",
    "\n",
    "- Альтернативная гипотеза H₁: Средняя активность пользователей в Санкт-Петербурге больше, и это различие статистически значимо."
   ]
  },
  {
   "cell_type": "code",
   "execution_count": 23,
   "id": "ec9ae24d",
   "metadata": {},
   "outputs": [],
   "source": [
    "from scipy.stats import ttest_ind"
   ]
  },
  {
   "cell_type": "code",
   "execution_count": 24,
   "id": "67956690",
   "metadata": {
    "id": "67956690"
   },
   "outputs": [
    {
     "name": "stdout",
     "output_type": "stream",
     "text": [
      "p-value: 0.3318\n"
     ]
    }
   ],
   "source": [
    "# Создадим новый датафрейм. На всякий случай еще раз сгруппируем по пользователям и городам \n",
    "df_users = df_clean.groupby(['puid', 'city'], as_index=False)['hours'].sum()\n",
    "\n",
    "moscow = df_users[df_users['city'] == 'Москва']['hours']\n",
    "spb = df_users[df_users['city'] == 'Санкт-Петербург']['hours']\n",
    "\n",
    "stat, p_value = ttest_ind(spb, moscow, equal_var=False, alternative='greater')\n",
    "\n",
    "print(f'p-value: {p_value:.4f}')"
   ]
  },
  {
   "cell_type": "code",
   "execution_count": 25,
   "id": "38a8da7a",
   "metadata": {},
   "outputs": [
    {
     "data": {
      "text/plain": [
       "city\n",
       "Москва             10.848192\n",
       "Санкт-Петербург    11.264433\n",
       "Name: hours, dtype: float64"
      ]
     },
     "execution_count": 25,
     "metadata": {},
     "output_type": "execute_result"
    }
   ],
   "source": [
    "df_users.groupby('city')['hours'].mean()"
   ]
  },
  {
   "cell_type": "code",
   "execution_count": 26,
   "id": "aa5cb52e",
   "metadata": {},
   "outputs": [],
   "source": [
    "import seaborn as sns\n",
    "import matplotlib.pyplot as plt"
   ]
  },
  {
   "cell_type": "code",
   "execution_count": 27,
   "id": "fbaa4164",
   "metadata": {},
   "outputs": [
    {
     "data": {
      "image/png": "[encoded data removed]",
      "text/plain": [
       "<Figure size 432x288 with 1 Axes>"
      ]
     },
     "metadata": {
      "needs_background": "light"
     },
     "output_type": "display_data"
    }
   ],
   "source": [
    "# Взглянем на выбросы\n",
    "sns.boxplot(data=df_users, x='city', y='hours')\n",
    "plt.title('Распределение времени активности по городам')\n",
    "plt.show()"
   ]
  },
  {
   "cell_type": "markdown",
   "id": "6953e84c",
   "metadata": {
    "id": "6953e84c"
   },
   "source": [
    "## 3. Аналитическая записка\n",
    "\n",
    "- Провели односторонний t-тест для независимых выборок с неравной дисперсией.\n",
    "\n",
    "- p-value = 0.3318.\n",
    "\n",
    "- Данное значение существенно выше стандартного уровня значимости 0.05, что означает, что полученная разница в среднем времени между городами может быть случайной, нулевая гипотеза не отклонена.\n",
    "\n",
    "- Визуальный анализ распределения показал наличие выбросов. Некоторые пользователи проводили в приложении значительно больше времени, чем остальные. Это влияет на значение p-value. Еще одним фактором высокого значения p-value является малый размер выборки.\n",
    "\n"
   ]
  }
 ],
 "metadata": {
  "ExecuteTimeLog": [
   {
    "duration": 426,
    "start_time": "2025-06-24T14:50:30.139Z"
   },
   {
    "duration": 27,
    "start_time": "2025-06-24T14:50:31.308Z"
   },
   {
    "duration": 16,
    "start_time": "2025-06-24T14:50:51.398Z"
   },
   {
    "duration": 6,
    "start_time": "2025-06-24T14:54:37.253Z"
   },
   {
    "duration": 8,
    "start_time": "2025-06-24T14:54:39.182Z"
   },
   {
    "duration": 473,
    "start_time": "2025-06-24T15:00:24.549Z"
   },
   {
    "duration": 102,
    "start_time": "2025-06-24T15:00:46.223Z"
   },
   {
    "duration": 15,
    "start_time": "2025-06-24T15:01:00.337Z"
   },
   {
    "duration": 10,
    "start_time": "2025-06-24T15:08:22.493Z"
   },
   {
    "duration": 7,
    "start_time": "2025-06-24T15:08:43.411Z"
   },
   {
    "duration": 14,
    "start_time": "2025-06-24T15:09:59.474Z"
   },
   {
    "duration": 4,
    "start_time": "2025-06-24T15:11:13.531Z"
   },
   {
    "duration": 5,
    "start_time": "2025-06-24T15:20:13.886Z"
   },
   {
    "duration": 6,
    "start_time": "2025-06-24T15:20:35.386Z"
   },
   {
    "duration": 20,
    "start_time": "2025-06-24T15:27:24.354Z"
   },
   {
    "duration": 5,
    "start_time": "2025-06-24T15:27:38.721Z"
   },
   {
    "duration": 15,
    "start_time": "2025-06-24T15:30:26.215Z"
   },
   {
    "duration": 50,
    "start_time": "2025-06-25T09:24:18.454Z"
   },
   {
    "duration": 385,
    "start_time": "2025-06-25T09:24:31.205Z"
   },
   {
    "duration": 136,
    "start_time": "2025-06-25T09:24:31.592Z"
   },
   {
    "duration": 15,
    "start_time": "2025-06-25T09:24:31.729Z"
   },
   {
    "duration": 15,
    "start_time": "2025-06-25T09:24:31.746Z"
   },
   {
    "duration": 14,
    "start_time": "2025-06-25T09:24:31.763Z"
   },
   {
    "duration": 25,
    "start_time": "2025-06-25T09:24:31.779Z"
   },
   {
    "duration": 15,
    "start_time": "2025-06-25T09:24:31.806Z"
   },
   {
    "duration": 4,
    "start_time": "2025-06-25T09:24:31.822Z"
   },
   {
    "duration": 8,
    "start_time": "2025-06-25T09:24:31.827Z"
   },
   {
    "duration": 489,
    "start_time": "2025-06-25T09:24:31.837Z"
   },
   {
    "duration": 10,
    "start_time": "2025-06-25T09:24:32.328Z"
   },
   {
    "duration": 1856,
    "start_time": "2025-06-25T09:24:32.340Z"
   },
   {
    "duration": 5,
    "start_time": "2025-06-25T09:24:42.053Z"
   },
   {
    "duration": 7,
    "start_time": "2025-06-25T09:24:50.563Z"
   },
   {
    "duration": 9,
    "start_time": "2025-06-25T09:25:17.139Z"
   },
   {
    "duration": 8,
    "start_time": "2025-06-25T09:41:56.781Z"
   },
   {
    "duration": 4,
    "start_time": "2025-06-25T09:43:34.193Z"
   },
   {
    "duration": 3,
    "start_time": "2025-06-25T09:46:20.940Z"
   },
   {
    "duration": 10,
    "start_time": "2025-06-25T09:59:03.447Z"
   },
   {
    "duration": 18,
    "start_time": "2025-06-25T10:02:22.981Z"
   },
   {
    "duration": 15,
    "start_time": "2025-06-25T10:02:35.566Z"
   },
   {
    "duration": 7,
    "start_time": "2025-06-25T10:02:55.142Z"
   },
   {
    "duration": 84,
    "start_time": "2025-06-25T10:03:14.827Z"
   },
   {
    "duration": 3,
    "start_time": "2025-06-25T10:03:28.787Z"
   },
   {
    "duration": 420,
    "start_time": "2025-06-25T10:28:45.470Z"
   },
   {
    "duration": 25,
    "start_time": "2025-06-25T10:28:45.892Z"
   },
   {
    "duration": 17,
    "start_time": "2025-06-25T10:28:45.919Z"
   },
   {
    "duration": 8,
    "start_time": "2025-06-25T10:28:45.938Z"
   },
   {
    "duration": 20,
    "start_time": "2025-06-25T10:28:45.949Z"
   },
   {
    "duration": 38,
    "start_time": "2025-06-25T10:28:45.971Z"
   },
   {
    "duration": 26,
    "start_time": "2025-06-25T10:28:46.011Z"
   },
   {
    "duration": 6,
    "start_time": "2025-06-25T10:28:46.039Z"
   },
   {
    "duration": 16,
    "start_time": "2025-06-25T10:28:46.047Z"
   },
   {
    "duration": 15,
    "start_time": "2025-06-25T10:28:46.067Z"
   },
   {
    "duration": 447,
    "start_time": "2025-06-25T10:28:46.083Z"
   },
   {
    "duration": 118,
    "start_time": "2025-06-25T10:28:46.531Z"
   },
   {
    "duration": 0,
    "start_time": "2025-06-25T10:28:46.651Z"
   },
   {
    "duration": 2,
    "start_time": "2025-06-25T10:29:15.222Z"
   },
   {
    "duration": 15,
    "start_time": "2025-06-25T10:29:15.775Z"
   },
   {
    "duration": 3,
    "start_time": "2025-06-25T10:29:32.228Z"
   },
   {
    "duration": 631,
    "start_time": "2025-06-25T10:36:15.905Z"
   },
   {
    "duration": 7,
    "start_time": "2025-06-25T10:37:12.685Z"
   },
   {
    "duration": 421,
    "start_time": "2025-06-25T14:36:52.151Z"
   },
   {
    "duration": 35,
    "start_time": "2025-06-25T14:36:52.574Z"
   },
   {
    "duration": 15,
    "start_time": "2025-06-25T14:36:52.611Z"
   },
   {
    "duration": 15,
    "start_time": "2025-06-25T14:36:52.628Z"
   },
   {
    "duration": 14,
    "start_time": "2025-06-25T14:36:52.646Z"
   },
   {
    "duration": 15,
    "start_time": "2025-06-25T14:36:52.662Z"
   },
   {
    "duration": 23,
    "start_time": "2025-06-25T14:36:52.678Z"
   },
   {
    "duration": 5,
    "start_time": "2025-06-25T14:36:52.703Z"
   },
   {
    "duration": 11,
    "start_time": "2025-06-25T14:36:52.710Z"
   },
   {
    "duration": 126,
    "start_time": "2025-06-25T14:36:52.723Z"
   },
   {
    "duration": 106,
    "start_time": "2025-06-25T14:36:52.851Z"
   },
   {
    "duration": 0,
    "start_time": "2025-06-25T14:36:52.959Z"
   },
   {
    "duration": 0,
    "start_time": "2025-06-25T14:36:52.960Z"
   },
   {
    "duration": 0,
    "start_time": "2025-06-25T14:36:52.961Z"
   },
   {
    "duration": 0,
    "start_time": "2025-06-25T14:36:52.962Z"
   },
   {
    "duration": 8,
    "start_time": "2025-06-25T14:36:59.714Z"
   },
   {
    "duration": 2,
    "start_time": "2025-06-25T14:37:05.630Z"
   },
   {
    "duration": 24,
    "start_time": "2025-06-25T14:37:05.877Z"
   },
   {
    "duration": 9,
    "start_time": "2025-06-25T14:37:06.005Z"
   },
   {
    "duration": 4,
    "start_time": "2025-06-25T14:37:06.384Z"
   },
   {
    "duration": 5,
    "start_time": "2025-06-25T14:37:06.759Z"
   },
   {
    "duration": 7,
    "start_time": "2025-06-25T14:37:07.024Z"
   },
   {
    "duration": 13,
    "start_time": "2025-06-25T14:37:08.133Z"
   },
   {
    "duration": 10,
    "start_time": "2025-06-25T14:37:08.148Z"
   },
   {
    "duration": 8,
    "start_time": "2025-06-25T14:37:08.492Z"
   },
   {
    "duration": 3,
    "start_time": "2025-06-25T14:37:09.077Z"
   },
   {
    "duration": 8,
    "start_time": "2025-06-25T14:37:10.250Z"
   },
   {
    "duration": 461,
    "start_time": "2025-06-25T14:37:10.945Z"
   },
   {
    "duration": 16,
    "start_time": "2025-06-25T14:37:11.408Z"
   },
   {
    "duration": 7,
    "start_time": "2025-06-25T14:37:11.758Z"
   },
   {
    "duration": 3,
    "start_time": "2025-06-25T14:37:14.462Z"
   },
   {
    "duration": 15,
    "start_time": "2025-06-25T14:45:59.501Z"
   },
   {
    "duration": 387,
    "start_time": "2025-06-25T16:02:12.280Z"
   },
   {
    "duration": 26,
    "start_time": "2025-06-25T16:02:12.669Z"
   },
   {
    "duration": 17,
    "start_time": "2025-06-25T16:02:12.697Z"
   },
   {
    "duration": 5,
    "start_time": "2025-06-25T16:02:12.716Z"
   },
   {
    "duration": 9,
    "start_time": "2025-06-25T16:02:12.737Z"
   },
   {
    "duration": 7,
    "start_time": "2025-06-25T16:02:12.748Z"
   },
   {
    "duration": 13,
    "start_time": "2025-06-25T16:02:12.757Z"
   },
   {
    "duration": 4,
    "start_time": "2025-06-25T16:02:12.772Z"
   },
   {
    "duration": 14,
    "start_time": "2025-06-25T16:02:12.778Z"
   },
   {
    "duration": 4,
    "start_time": "2025-06-25T16:02:12.793Z"
   },
   {
    "duration": 505,
    "start_time": "2025-06-25T16:02:12.798Z"
   },
   {
    "duration": 16,
    "start_time": "2025-06-25T16:02:13.305Z"
   },
   {
    "duration": 19,
    "start_time": "2025-06-25T16:02:13.322Z"
   },
   {
    "duration": 704,
    "start_time": "2025-06-25T16:02:13.344Z"
   },
   {
    "duration": 1721,
    "start_time": "2025-06-25T16:02:14.050Z"
   },
   {
    "duration": 1668,
    "start_time": "2025-06-25T16:17:12.030Z"
   },
   {
    "duration": 13,
    "start_time": "2025-06-25T16:50:02.753Z"
   },
   {
    "duration": 9,
    "start_time": "2025-06-25T16:50:12.929Z"
   },
   {
    "duration": 10,
    "start_time": "2025-06-25T16:50:48.455Z"
   },
   {
    "duration": 108,
    "start_time": "2025-06-25T17:13:39.382Z"
   },
   {
    "duration": 9,
    "start_time": "2025-06-25T17:13:49.405Z"
   },
   {
    "duration": 14,
    "start_time": "2025-06-25T17:21:04.809Z"
   },
   {
    "duration": 15,
    "start_time": "2025-06-25T17:21:16.062Z"
   },
   {
    "duration": 78,
    "start_time": "2025-06-25T17:21:32.150Z"
   },
   {
    "duration": 15,
    "start_time": "2025-06-25T17:21:38.956Z"
   },
   {
    "duration": 439,
    "start_time": "2025-06-26T08:36:04.746Z"
   },
   {
    "duration": 132,
    "start_time": "2025-06-26T08:36:05.187Z"
   },
   {
    "duration": 15,
    "start_time": "2025-06-26T08:36:05.321Z"
   },
   {
    "duration": 3,
    "start_time": "2025-06-26T08:36:05.338Z"
   },
   {
    "duration": 6,
    "start_time": "2025-06-26T08:36:05.344Z"
   },
   {
    "duration": 7,
    "start_time": "2025-06-26T08:36:05.351Z"
   },
   {
    "duration": 13,
    "start_time": "2025-06-26T08:36:05.360Z"
   },
   {
    "duration": 21,
    "start_time": "2025-06-26T08:36:05.375Z"
   },
   {
    "duration": 10,
    "start_time": "2025-06-26T08:36:05.398Z"
   },
   {
    "duration": 13,
    "start_time": "2025-06-26T08:36:05.409Z"
   },
   {
    "duration": 507,
    "start_time": "2025-06-26T08:36:05.423Z"
   },
   {
    "duration": 17,
    "start_time": "2025-06-26T08:36:05.931Z"
   },
   {
    "duration": 18,
    "start_time": "2025-06-26T08:36:05.949Z"
   },
   {
    "duration": 506,
    "start_time": "2025-06-26T08:36:05.970Z"
   },
   {
    "duration": 139,
    "start_time": "2025-06-26T08:36:06.478Z"
   },
   {
    "duration": 1577,
    "start_time": "2025-06-26T08:36:06.619Z"
   },
   {
    "duration": 7,
    "start_time": "2025-06-26T08:36:08.198Z"
   },
   {
    "duration": 19,
    "start_time": "2025-06-26T08:36:08.207Z"
   },
   {
    "duration": 8,
    "start_time": "2025-06-26T08:36:08.228Z"
   },
   {
    "duration": 37,
    "start_time": "2025-06-26T08:36:08.238Z"
   },
   {
    "duration": 14,
    "start_time": "2025-06-26T08:37:13.990Z"
   },
   {
    "duration": 7,
    "start_time": "2025-06-26T08:37:58.345Z"
   },
   {
    "duration": 13,
    "start_time": "2025-06-26T08:39:11.978Z"
   },
   {
    "duration": 15,
    "start_time": "2025-06-26T08:40:07.113Z"
   },
   {
    "duration": 7,
    "start_time": "2025-06-26T08:40:09.371Z"
   },
   {
    "duration": 5,
    "start_time": "2025-06-26T08:40:33.374Z"
   },
   {
    "duration": 5,
    "start_time": "2025-06-26T08:53:03.201Z"
   },
   {
    "duration": 7,
    "start_time": "2025-06-26T08:53:04.737Z"
   },
   {
    "duration": 118,
    "start_time": "2025-06-26T09:13:40.555Z"
   },
   {
    "duration": 118,
    "start_time": "2025-06-26T09:13:55.562Z"
   },
   {
    "duration": 11,
    "start_time": "2025-06-26T09:14:01.682Z"
   },
   {
    "duration": 96,
    "start_time": "2025-06-26T09:16:19.954Z"
   },
   {
    "duration": 23,
    "start_time": "2025-06-26T09:16:29.355Z"
   },
   {
    "duration": 19,
    "start_time": "2025-06-26T09:17:19.626Z"
   },
   {
    "duration": 6,
    "start_time": "2025-06-26T09:19:01.773Z"
   },
   {
    "duration": 89,
    "start_time": "2025-06-26T09:19:06.875Z"
   },
   {
    "duration": 85,
    "start_time": "2025-06-26T09:19:49.103Z"
   },
   {
    "duration": 85,
    "start_time": "2025-06-26T09:19:54.692Z"
   },
   {
    "duration": 6,
    "start_time": "2025-06-26T09:19:57.959Z"
   },
   {
    "duration": 85,
    "start_time": "2025-06-26T09:20:01.793Z"
   },
   {
    "duration": 6,
    "start_time": "2025-06-26T09:20:25.016Z"
   },
   {
    "duration": 422,
    "start_time": "2025-06-26T11:55:38.525Z"
   },
   {
    "duration": 24,
    "start_time": "2025-06-26T11:55:38.949Z"
   },
   {
    "duration": 15,
    "start_time": "2025-06-26T11:55:38.975Z"
   },
   {
    "duration": 5,
    "start_time": "2025-06-26T11:55:38.992Z"
   },
   {
    "duration": 8,
    "start_time": "2025-06-26T11:55:39.000Z"
   },
   {
    "duration": 9,
    "start_time": "2025-06-26T11:55:39.010Z"
   },
   {
    "duration": 39,
    "start_time": "2025-06-26T11:55:39.021Z"
   },
   {
    "duration": 6,
    "start_time": "2025-06-26T11:55:39.062Z"
   },
   {
    "duration": 12,
    "start_time": "2025-06-26T11:55:39.070Z"
   },
   {
    "duration": 4,
    "start_time": "2025-06-26T11:55:39.084Z"
   },
   {
    "duration": 516,
    "start_time": "2025-06-26T11:55:39.090Z"
   },
   {
    "duration": 14,
    "start_time": "2025-06-26T11:55:39.607Z"
   },
   {
    "duration": 7,
    "start_time": "2025-06-26T11:55:39.622Z"
   },
   {
    "duration": 527,
    "start_time": "2025-06-26T11:55:39.631Z"
   },
   {
    "duration": 146,
    "start_time": "2025-06-26T11:55:40.159Z"
   },
   {
    "duration": 1555,
    "start_time": "2025-06-26T11:55:40.306Z"
   },
   {
    "duration": 14,
    "start_time": "2025-06-26T11:55:41.863Z"
   },
   {
    "duration": 9,
    "start_time": "2025-06-26T11:55:41.879Z"
   },
   {
    "duration": 10,
    "start_time": "2025-06-26T11:55:41.890Z"
   },
   {
    "duration": 126,
    "start_time": "2025-06-26T11:55:41.901Z"
   },
   {
    "duration": 0,
    "start_time": "2025-06-26T11:55:42.029Z"
   },
   {
    "duration": 0,
    "start_time": "2025-06-26T11:55:42.030Z"
   },
   {
    "duration": 0,
    "start_time": "2025-06-26T11:55:42.031Z"
   },
   {
    "duration": 0,
    "start_time": "2025-06-26T11:55:42.033Z"
   },
   {
    "duration": 0,
    "start_time": "2025-06-26T11:55:42.034Z"
   },
   {
    "duration": 0,
    "start_time": "2025-06-26T11:55:42.035Z"
   },
   {
    "duration": 0,
    "start_time": "2025-06-26T11:55:42.036Z"
   },
   {
    "duration": 15,
    "start_time": "2025-06-26T11:56:04.979Z"
   },
   {
    "duration": 11,
    "start_time": "2025-06-26T11:56:18.858Z"
   },
   {
    "duration": 1630,
    "start_time": "2025-06-26T11:56:39.021Z"
   },
   {
    "duration": 14,
    "start_time": "2025-06-26T11:56:40.653Z"
   },
   {
    "duration": 9,
    "start_time": "2025-06-26T11:56:43.309Z"
   },
   {
    "duration": 5,
    "start_time": "2025-06-26T11:56:44.261Z"
   },
   {
    "duration": 12,
    "start_time": "2025-06-26T11:56:45.998Z"
   },
   {
    "duration": 7,
    "start_time": "2025-06-26T11:57:05.982Z"
   },
   {
    "duration": 8,
    "start_time": "2025-06-26T11:57:06.235Z"
   },
   {
    "duration": 7,
    "start_time": "2025-06-26T11:57:07.377Z"
   },
   {
    "duration": 413,
    "start_time": "2025-06-26T11:57:23.666Z"
   },
   {
    "duration": 25,
    "start_time": "2025-06-26T11:57:24.081Z"
   },
   {
    "duration": 14,
    "start_time": "2025-06-26T11:57:24.107Z"
   },
   {
    "duration": 30,
    "start_time": "2025-06-26T11:57:24.123Z"
   },
   {
    "duration": 13,
    "start_time": "2025-06-26T11:57:24.155Z"
   },
   {
    "duration": 10,
    "start_time": "2025-06-26T11:57:24.169Z"
   },
   {
    "duration": 11,
    "start_time": "2025-06-26T11:57:24.181Z"
   },
   {
    "duration": 4,
    "start_time": "2025-06-26T11:57:24.194Z"
   },
   {
    "duration": 7,
    "start_time": "2025-06-26T11:57:24.200Z"
   },
   {
    "duration": 3,
    "start_time": "2025-06-26T11:57:24.209Z"
   },
   {
    "duration": 492,
    "start_time": "2025-06-26T11:57:24.214Z"
   },
   {
    "duration": 15,
    "start_time": "2025-06-26T11:57:24.708Z"
   },
   {
    "duration": 15,
    "start_time": "2025-06-26T11:57:24.724Z"
   },
   {
    "duration": 317,
    "start_time": "2025-06-26T11:57:24.741Z"
   },
   {
    "duration": 143,
    "start_time": "2025-06-26T11:57:25.059Z"
   },
   {
    "duration": 1450,
    "start_time": "2025-06-26T11:57:25.204Z"
   },
   {
    "duration": 14,
    "start_time": "2025-06-26T11:57:26.655Z"
   },
   {
    "duration": 32,
    "start_time": "2025-06-26T11:57:26.671Z"
   },
   {
    "duration": 10,
    "start_time": "2025-06-26T11:57:26.705Z"
   },
   {
    "duration": 13,
    "start_time": "2025-06-26T11:57:26.717Z"
   },
   {
    "duration": 4,
    "start_time": "2025-06-26T11:57:26.732Z"
   },
   {
    "duration": 7,
    "start_time": "2025-06-26T11:57:26.738Z"
   },
   {
    "duration": 15,
    "start_time": "2025-06-26T11:57:26.747Z"
   },
   {
    "duration": 121,
    "start_time": "2025-06-26T11:57:26.763Z"
   },
   {
    "duration": 8,
    "start_time": "2025-06-26T11:57:26.886Z"
   },
   {
    "duration": 99,
    "start_time": "2025-06-26T11:57:26.895Z"
   },
   {
    "duration": 15,
    "start_time": "2025-06-26T11:57:26.996Z"
   },
   {
    "duration": 1517,
    "start_time": "2025-06-26T12:00:32.452Z"
   },
   {
    "duration": 14,
    "start_time": "2025-06-26T12:00:33.971Z"
   },
   {
    "duration": 8,
    "start_time": "2025-06-26T12:00:34.682Z"
   },
   {
    "duration": 15,
    "start_time": "2025-06-26T12:00:39.559Z"
   },
   {
    "duration": 5,
    "start_time": "2025-06-26T12:00:48.127Z"
   },
   {
    "duration": 12,
    "start_time": "2025-06-26T12:00:52.883Z"
   },
   {
    "duration": 7,
    "start_time": "2025-06-26T12:01:23.555Z"
   },
   {
    "duration": 6,
    "start_time": "2025-06-26T12:01:25.970Z"
   },
   {
    "duration": 143,
    "start_time": "2025-06-26T12:04:58.435Z"
   },
   {
    "duration": 16,
    "start_time": "2025-06-26T12:05:09.927Z"
   },
   {
    "duration": 25,
    "start_time": "2025-06-26T12:05:24.314Z"
   },
   {
    "duration": 26,
    "start_time": "2025-06-26T12:12:10.885Z"
   },
   {
    "duration": 25,
    "start_time": "2025-06-26T12:14:16.093Z"
   },
   {
    "duration": 8,
    "start_time": "2025-06-26T12:14:50.172Z"
   },
   {
    "duration": 12,
    "start_time": "2025-06-26T12:15:01.026Z"
   },
   {
    "duration": 9,
    "start_time": "2025-06-26T12:15:06.628Z"
   },
   {
    "duration": 9,
    "start_time": "2025-06-26T12:15:09.083Z"
   },
   {
    "duration": 23,
    "start_time": "2025-06-26T12:15:14.360Z"
   },
   {
    "duration": 11,
    "start_time": "2025-06-26T12:15:26.100Z"
   },
   {
    "duration": 13,
    "start_time": "2025-06-26T12:16:58.043Z"
   },
   {
    "duration": 310,
    "start_time": "2025-06-26T12:16:59.307Z"
   },
   {
    "duration": 100,
    "start_time": "2025-06-26T12:18:52.958Z"
   },
   {
    "duration": 13,
    "start_time": "2025-06-26T12:18:57.750Z"
   },
   {
    "duration": 11,
    "start_time": "2025-06-26T12:19:56.216Z"
   },
   {
    "duration": 25,
    "start_time": "2025-06-26T12:20:18.989Z"
   },
   {
    "duration": 9,
    "start_time": "2025-06-26T12:21:19.646Z"
   },
   {
    "duration": 322,
    "start_time": "2025-06-26T12:21:29.005Z"
   },
   {
    "duration": 695,
    "start_time": "2025-06-26T12:21:47.791Z"
   },
   {
    "duration": 12,
    "start_time": "2025-06-26T12:21:53.835Z"
   },
   {
    "duration": 18,
    "start_time": "2025-06-26T12:26:55.499Z"
   },
   {
    "duration": 19,
    "start_time": "2025-06-26T12:54:28.832Z"
   },
   {
    "duration": 14,
    "start_time": "2025-06-26T12:54:51.887Z"
   },
   {
    "duration": 11,
    "start_time": "2025-06-26T12:55:07.753Z"
   },
   {
    "duration": 11,
    "start_time": "2025-06-26T12:56:45.013Z"
   },
   {
    "duration": 228,
    "start_time": "2025-06-26T12:56:47.279Z"
   },
   {
    "duration": 256,
    "start_time": "2025-06-26T12:56:55.722Z"
   },
   {
    "duration": 254,
    "start_time": "2025-06-26T12:58:02.761Z"
   },
   {
    "duration": 18,
    "start_time": "2025-06-26T13:06:32.901Z"
   },
   {
    "duration": 18,
    "start_time": "2025-06-26T13:06:40.426Z"
   },
   {
    "duration": 16,
    "start_time": "2025-06-26T13:06:59.167Z"
   },
   {
    "duration": 13,
    "start_time": "2025-06-26T13:07:20.255Z"
   },
   {
    "duration": 10,
    "start_time": "2025-06-26T13:07:25.556Z"
   },
   {
    "duration": 258,
    "start_time": "2025-06-26T13:50:51.267Z"
   },
   {
    "duration": 1976,
    "start_time": "2025-06-26T13:53:11.971Z"
   },
   {
    "duration": 15,
    "start_time": "2025-06-26T13:53:14.336Z"
   },
   {
    "duration": 8,
    "start_time": "2025-06-26T13:53:17.284Z"
   },
   {
    "duration": 5,
    "start_time": "2025-06-26T13:53:23.960Z"
   },
   {
    "duration": 14,
    "start_time": "2025-06-26T13:53:35.188Z"
   },
   {
    "duration": 8,
    "start_time": "2025-06-26T13:53:35.710Z"
   },
   {
    "duration": 6,
    "start_time": "2025-06-26T13:54:10.409Z"
   },
   {
    "duration": 13,
    "start_time": "2025-06-26T13:54:34.278Z"
   },
   {
    "duration": 8,
    "start_time": "2025-06-26T13:54:36.364Z"
   },
   {
    "duration": 8,
    "start_time": "2025-06-26T13:55:42.171Z"
   },
   {
    "duration": 9,
    "start_time": "2025-06-26T13:55:54.233Z"
   },
   {
    "duration": 6,
    "start_time": "2025-06-26T13:56:00.582Z"
   },
   {
    "duration": 6,
    "start_time": "2025-06-26T13:56:00.740Z"
   },
   {
    "duration": 13,
    "start_time": "2025-06-26T13:56:01.082Z"
   },
   {
    "duration": 8,
    "start_time": "2025-06-26T13:56:01.422Z"
   },
   {
    "duration": 13,
    "start_time": "2025-06-26T14:02:20.888Z"
   },
   {
    "duration": 8,
    "start_time": "2025-06-26T14:02:23.070Z"
   },
   {
    "duration": 5,
    "start_time": "2025-06-26T14:02:24.695Z"
   },
   {
    "duration": 14,
    "start_time": "2025-06-26T14:02:25.478Z"
   },
   {
    "duration": 7,
    "start_time": "2025-06-26T14:02:26.416Z"
   },
   {
    "duration": 8,
    "start_time": "2025-06-26T14:02:36.455Z"
   },
   {
    "duration": 109,
    "start_time": "2025-06-26T14:02:38.775Z"
   },
   {
    "duration": 8,
    "start_time": "2025-06-26T14:02:39.485Z"
   },
   {
    "duration": 87,
    "start_time": "2025-06-26T14:02:41.976Z"
   },
   {
    "duration": 17,
    "start_time": "2025-06-26T14:02:42.375Z"
   },
   {
    "duration": 29,
    "start_time": "2025-06-26T14:02:43.355Z"
   },
   {
    "duration": 25,
    "start_time": "2025-06-26T14:02:43.884Z"
   },
   {
    "duration": 28,
    "start_time": "2025-06-26T14:02:45.139Z"
   },
   {
    "duration": 27,
    "start_time": "2025-06-26T14:02:46.548Z"
   },
   {
    "duration": 7,
    "start_time": "2025-06-26T14:02:46.900Z"
   },
   {
    "duration": 11,
    "start_time": "2025-06-26T14:02:47.264Z"
   },
   {
    "duration": 10,
    "start_time": "2025-06-26T14:02:47.640Z"
   },
   {
    "duration": 18,
    "start_time": "2025-06-26T14:02:50.279Z"
   },
   {
    "duration": 14,
    "start_time": "2025-06-26T14:02:51.230Z"
   },
   {
    "duration": 1560,
    "start_time": "2025-06-26T14:03:02.240Z"
   },
   {
    "duration": 14,
    "start_time": "2025-06-26T14:03:05.293Z"
   },
   {
    "duration": 8,
    "start_time": "2025-06-26T14:03:07.075Z"
   },
   {
    "duration": 7,
    "start_time": "2025-06-26T14:03:08.976Z"
   },
   {
    "duration": 15,
    "start_time": "2025-06-26T14:03:11.808Z"
   },
   {
    "duration": 8,
    "start_time": "2025-06-26T14:03:12.703Z"
   },
   {
    "duration": 8,
    "start_time": "2025-06-26T14:03:14.756Z"
   },
   {
    "duration": 6,
    "start_time": "2025-06-26T14:03:24.037Z"
   },
   {
    "duration": 6,
    "start_time": "2025-06-26T14:03:24.946Z"
   },
   {
    "duration": 13,
    "start_time": "2025-06-26T14:03:25.993Z"
   },
   {
    "duration": 7,
    "start_time": "2025-06-26T14:03:27.386Z"
   },
   {
    "duration": 8,
    "start_time": "2025-06-26T14:04:29.979Z"
   },
   {
    "duration": 5,
    "start_time": "2025-06-26T14:04:32.991Z"
   },
   {
    "duration": 6,
    "start_time": "2025-06-26T14:04:36.818Z"
   },
   {
    "duration": 12,
    "start_time": "2025-06-26T14:04:37.565Z"
   },
   {
    "duration": 8,
    "start_time": "2025-06-26T14:04:42.626Z"
   },
   {
    "duration": 13,
    "start_time": "2025-06-26T14:06:10.469Z"
   },
   {
    "duration": 1842,
    "start_time": "2025-06-26T14:06:13.746Z"
   },
   {
    "duration": 14,
    "start_time": "2025-06-26T14:06:15.590Z"
   },
   {
    "duration": 8,
    "start_time": "2025-06-26T14:06:17.490Z"
   },
   {
    "duration": 7,
    "start_time": "2025-06-26T14:06:20.676Z"
   },
   {
    "duration": 11,
    "start_time": "2025-06-26T14:06:56.402Z"
   },
   {
    "duration": 6,
    "start_time": "2025-06-26T14:06:58.106Z"
   },
   {
    "duration": 16,
    "start_time": "2025-06-26T14:07:01.430Z"
   },
   {
    "duration": 5,
    "start_time": "2025-06-26T14:07:07.660Z"
   },
   {
    "duration": 7,
    "start_time": "2025-06-26T14:07:08.256Z"
   },
   {
    "duration": 13,
    "start_time": "2025-06-26T14:07:12.170Z"
   },
   {
    "duration": 9,
    "start_time": "2025-06-26T14:07:13.840Z"
   },
   {
    "duration": 6,
    "start_time": "2025-06-26T14:07:16.298Z"
   },
   {
    "duration": 7,
    "start_time": "2025-06-26T14:07:23.198Z"
   },
   {
    "duration": 7,
    "start_time": "2025-06-26T14:07:55.551Z"
   },
   {
    "duration": 110,
    "start_time": "2025-06-26T14:07:57.922Z"
   },
   {
    "duration": 9,
    "start_time": "2025-06-26T14:07:58.746Z"
   },
   {
    "duration": 98,
    "start_time": "2025-06-26T14:08:00.740Z"
   },
   {
    "duration": 25,
    "start_time": "2025-06-26T14:08:01.044Z"
   },
   {
    "duration": 33,
    "start_time": "2025-06-26T14:08:02.835Z"
   },
   {
    "duration": 25,
    "start_time": "2025-06-26T14:08:03.168Z"
   },
   {
    "duration": 32,
    "start_time": "2025-06-26T14:08:05.650Z"
   },
   {
    "duration": 26,
    "start_time": "2025-06-26T14:08:08.003Z"
   },
   {
    "duration": 7,
    "start_time": "2025-06-26T14:08:08.422Z"
   },
   {
    "duration": 15,
    "start_time": "2025-06-26T14:08:08.803Z"
   },
   {
    "duration": 11,
    "start_time": "2025-06-26T14:08:09.530Z"
   },
   {
    "duration": 18,
    "start_time": "2025-06-26T14:08:12.370Z"
   },
   {
    "duration": 24,
    "start_time": "2025-06-26T14:08:54.096Z"
   },
   {
    "duration": 70,
    "start_time": "2025-06-26T14:09:16.121Z"
   },
   {
    "duration": 15,
    "start_time": "2025-06-26T14:09:22.074Z"
   },
   {
    "duration": 3,
    "start_time": "2025-06-26T14:09:50.079Z"
   },
   {
    "duration": 12,
    "start_time": "2025-06-26T14:10:46.705Z"
   },
   {
    "duration": 14,
    "start_time": "2025-06-26T14:11:00.826Z"
   },
   {
    "duration": 8,
    "start_time": "2025-06-26T14:11:01.246Z"
   },
   {
    "duration": 7,
    "start_time": "2025-06-26T14:11:05.373Z"
   },
   {
    "duration": 14,
    "start_time": "2025-06-26T14:11:22.356Z"
   },
   {
    "duration": 18,
    "start_time": "2025-06-26T14:11:23.256Z"
   },
   {
    "duration": 29,
    "start_time": "2025-06-26T14:11:26.210Z"
   },
   {
    "duration": 25,
    "start_time": "2025-06-26T14:11:26.961Z"
   },
   {
    "duration": 28,
    "start_time": "2025-06-26T14:11:32.875Z"
   },
   {
    "duration": 26,
    "start_time": "2025-06-26T14:11:34.551Z"
   },
   {
    "duration": 13,
    "start_time": "2025-06-26T14:13:35.214Z"
   },
   {
    "duration": 15,
    "start_time": "2025-06-26T14:13:43.165Z"
   },
   {
    "duration": 25,
    "start_time": "2025-06-26T14:14:28.078Z"
   },
   {
    "duration": 14,
    "start_time": "2025-06-26T14:14:44.626Z"
   },
   {
    "duration": 17,
    "start_time": "2025-06-26T14:14:56.270Z"
   },
   {
    "duration": 19,
    "start_time": "2025-06-26T14:15:15.119Z"
   },
   {
    "duration": 13,
    "start_time": "2025-06-26T14:16:29.346Z"
   },
   {
    "duration": 1501,
    "start_time": "2025-06-26T14:16:51.386Z"
   },
   {
    "duration": 14,
    "start_time": "2025-06-26T14:16:56.182Z"
   },
   {
    "duration": 8,
    "start_time": "2025-06-26T14:16:58.617Z"
   },
   {
    "duration": 6,
    "start_time": "2025-06-26T14:17:05.465Z"
   },
   {
    "duration": 7,
    "start_time": "2025-06-26T14:17:06.058Z"
   },
   {
    "duration": 9,
    "start_time": "2025-06-26T14:17:14.998Z"
   },
   {
    "duration": 5,
    "start_time": "2025-06-26T14:17:19.924Z"
   },
   {
    "duration": 1738,
    "start_time": "2025-06-26T14:20:27.763Z"
   },
   {
    "duration": 10,
    "start_time": "2025-06-26T14:20:32.092Z"
   },
   {
    "duration": 1762,
    "start_time": "2025-06-26T14:21:06.543Z"
   },
   {
    "duration": 10,
    "start_time": "2025-06-26T14:21:10.986Z"
   },
   {
    "duration": 8,
    "start_time": "2025-06-26T14:21:26.408Z"
   },
   {
    "duration": 8,
    "start_time": "2025-06-26T14:21:30.856Z"
   },
   {
    "duration": 9,
    "start_time": "2025-06-26T14:21:44.584Z"
   },
   {
    "duration": 3,
    "start_time": "2025-06-26T14:21:53.609Z"
   },
   {
    "duration": 5,
    "start_time": "2025-06-26T14:22:01.107Z"
   },
   {
    "duration": 6,
    "start_time": "2025-06-26T14:22:02.115Z"
   },
   {
    "duration": 14,
    "start_time": "2025-06-26T14:22:02.803Z"
   },
   {
    "duration": 9,
    "start_time": "2025-06-26T14:22:03.465Z"
   },
   {
    "duration": 3,
    "start_time": "2025-06-26T14:22:08.038Z"
   },
   {
    "duration": 11,
    "start_time": "2025-06-26T14:24:58.269Z"
   },
   {
    "duration": 112,
    "start_time": "2025-06-26T14:27:53.418Z"
   },
   {
    "duration": 9,
    "start_time": "2025-06-26T14:27:53.877Z"
   },
   {
    "duration": 91,
    "start_time": "2025-06-26T14:28:03.809Z"
   },
   {
    "duration": 17,
    "start_time": "2025-06-26T14:28:05.306Z"
   },
   {
    "duration": 8,
    "start_time": "2025-06-26T14:28:06.933Z"
   },
   {
    "duration": 17,
    "start_time": "2025-06-26T14:28:24.793Z"
   },
   {
    "duration": 30,
    "start_time": "2025-06-26T14:28:26.255Z"
   },
   {
    "duration": 9,
    "start_time": "2025-06-26T14:28:28.475Z"
   },
   {
    "duration": 19,
    "start_time": "2025-06-26T14:28:35.838Z"
   },
   {
    "duration": 25,
    "start_time": "2025-06-26T14:28:37.872Z"
   },
   {
    "duration": 14,
    "start_time": "2025-06-26T14:28:38.434Z"
   },
   {
    "duration": 12,
    "start_time": "2025-06-26T14:28:39.322Z"
   },
   {
    "duration": 1204,
    "start_time": "2025-06-26T14:28:41.154Z"
   },
   {
    "duration": 20,
    "start_time": "2025-06-26T14:29:03.837Z"
   },
   {
    "duration": 14,
    "start_time": "2025-06-26T14:29:05.027Z"
   },
   {
    "duration": 10,
    "start_time": "2025-06-26T14:29:07.171Z"
   },
   {
    "duration": 247,
    "start_time": "2025-06-26T14:29:08.173Z"
   },
   {
    "duration": 10,
    "start_time": "2025-06-26T14:29:25.036Z"
   },
   {
    "duration": 24,
    "start_time": "2025-06-26T14:31:36.734Z"
   },
   {
    "duration": 9,
    "start_time": "2025-06-26T14:31:41.297Z"
   },
   {
    "duration": 18,
    "start_time": "2025-06-26T14:31:52.559Z"
   },
   {
    "duration": 1505,
    "start_time": "2025-06-26T14:32:05.413Z"
   },
   {
    "duration": 4,
    "start_time": "2025-06-26T14:32:07.962Z"
   },
   {
    "duration": 15,
    "start_time": "2025-06-26T14:32:09.598Z"
   },
   {
    "duration": 9,
    "start_time": "2025-06-26T14:32:10.498Z"
   },
   {
    "duration": 5,
    "start_time": "2025-06-26T14:32:11.715Z"
   },
   {
    "duration": 6,
    "start_time": "2025-06-26T14:32:11.722Z"
   },
   {
    "duration": 5,
    "start_time": "2025-06-26T14:32:28.713Z"
   },
   {
    "duration": 6,
    "start_time": "2025-06-26T14:32:29.339Z"
   },
   {
    "duration": 13,
    "start_time": "2025-06-26T14:32:30.064Z"
   },
   {
    "duration": 21,
    "start_time": "2025-06-26T14:32:30.862Z"
   },
   {
    "duration": 21,
    "start_time": "2025-06-26T14:32:35.327Z"
   },
   {
    "duration": 7,
    "start_time": "2025-06-26T14:32:38.207Z"
   },
   {
    "duration": 1564,
    "start_time": "2025-06-26T14:35:42.117Z"
   },
   {
    "duration": 3,
    "start_time": "2025-06-26T14:35:47.258Z"
   },
   {
    "duration": 15,
    "start_time": "2025-06-26T14:36:02.997Z"
   },
   {
    "duration": 5,
    "start_time": "2025-06-26T14:36:06.038Z"
   },
   {
    "duration": 13,
    "start_time": "2025-06-26T14:36:07.354Z"
   },
   {
    "duration": 1553,
    "start_time": "2025-06-26T14:36:16.156Z"
   },
   {
    "duration": 4,
    "start_time": "2025-06-26T14:36:18.472Z"
   },
   {
    "duration": 15,
    "start_time": "2025-06-26T14:36:20.797Z"
   },
   {
    "duration": 8,
    "start_time": "2025-06-26T14:36:21.919Z"
   },
   {
    "duration": 16,
    "start_time": "2025-06-26T14:36:25.377Z"
   },
   {
    "duration": 6,
    "start_time": "2025-06-26T14:37:04.424Z"
   },
   {
    "duration": 15,
    "start_time": "2025-06-26T14:37:06.579Z"
   },
   {
    "duration": 5,
    "start_time": "2025-06-26T14:37:09.501Z"
   },
   {
    "duration": 5,
    "start_time": "2025-06-26T14:37:12.171Z"
   },
   {
    "duration": 5,
    "start_time": "2025-06-26T14:37:13.182Z"
   },
   {
    "duration": 19,
    "start_time": "2025-06-26T14:37:15.199Z"
   },
   {
    "duration": 21,
    "start_time": "2025-06-26T14:37:15.854Z"
   },
   {
    "duration": 8,
    "start_time": "2025-06-26T14:37:16.556Z"
   },
   {
    "duration": 8,
    "start_time": "2025-06-26T14:37:29.623Z"
   },
   {
    "duration": 19,
    "start_time": "2025-06-26T14:51:25.859Z"
   },
   {
    "duration": 117,
    "start_time": "2025-06-26T14:51:34.802Z"
   },
   {
    "duration": 9,
    "start_time": "2025-06-26T14:51:35.804Z"
   },
   {
    "duration": 89,
    "start_time": "2025-06-26T14:51:36.396Z"
   },
   {
    "duration": 16,
    "start_time": "2025-06-26T14:51:37.204Z"
   },
   {
    "duration": 29,
    "start_time": "2025-06-26T14:51:38.163Z"
   },
   {
    "duration": 18,
    "start_time": "2025-06-26T14:51:39.048Z"
   },
   {
    "duration": 25,
    "start_time": "2025-06-26T14:51:39.780Z"
   },
   {
    "duration": 14,
    "start_time": "2025-06-26T14:51:40.266Z"
   },
   {
    "duration": 15,
    "start_time": "2025-06-26T14:51:40.858Z"
   },
   {
    "duration": 17,
    "start_time": "2025-06-26T14:51:43.132Z"
   },
   {
    "duration": 13,
    "start_time": "2025-06-26T14:51:44.820Z"
   },
   {
    "duration": 12,
    "start_time": "2025-06-26T14:51:51.347Z"
   },
   {
    "duration": 80,
    "start_time": "2025-06-26T14:51:59.705Z"
   },
   {
    "duration": 240,
    "start_time": "2025-06-26T14:52:10.578Z"
   },
   {
    "duration": 9,
    "start_time": "2025-06-26T14:52:32.079Z"
   },
   {
    "duration": 18,
    "start_time": "2025-06-26T14:52:36.971Z"
   },
   {
    "duration": 7,
    "start_time": "2025-06-26T14:54:00.408Z"
   },
   {
    "duration": 17,
    "start_time": "2025-06-26T14:54:04.663Z"
   },
   {
    "duration": 13,
    "start_time": "2025-06-26T14:54:10.420Z"
   },
   {
    "duration": 16,
    "start_time": "2025-06-26T14:54:49.347Z"
   },
   {
    "duration": 14,
    "start_time": "2025-06-26T14:54:50.703Z"
   },
   {
    "duration": 10,
    "start_time": "2025-06-26T14:54:54.012Z"
   },
   {
    "duration": 245,
    "start_time": "2025-06-26T14:54:54.369Z"
   },
   {
    "duration": 11,
    "start_time": "2025-06-26T14:55:25.900Z"
   },
   {
    "duration": 14,
    "start_time": "2025-06-26T14:56:22.643Z"
   },
   {
    "duration": 17,
    "start_time": "2025-06-26T14:56:23.131Z"
   },
   {
    "duration": 29,
    "start_time": "2025-06-26T14:56:24.859Z"
   },
   {
    "duration": 20,
    "start_time": "2025-06-26T14:56:26.479Z"
   },
   {
    "duration": 9,
    "start_time": "2025-06-26T14:58:06.373Z"
   },
   {
    "duration": 4,
    "start_time": "2025-06-26T14:58:26.048Z"
   },
   {
    "duration": 20,
    "start_time": "2025-06-26T14:58:43.051Z"
   },
   {
    "duration": 7,
    "start_time": "2025-06-26T14:58:43.724Z"
   },
   {
    "duration": 18,
    "start_time": "2025-06-26T14:58:46.881Z"
   },
   {
    "duration": 12,
    "start_time": "2025-06-26T14:58:48.242Z"
   },
   {
    "duration": 4,
    "start_time": "2025-06-26T14:59:08.389Z"
   },
   {
    "duration": 20,
    "start_time": "2025-06-26T14:59:20.252Z"
   },
   {
    "duration": 16,
    "start_time": "2025-06-26T14:59:22.662Z"
   },
   {
    "duration": 12,
    "start_time": "2025-06-26T14:59:26.117Z"
   },
   {
    "duration": 20,
    "start_time": "2025-06-26T14:59:38.029Z"
   },
   {
    "duration": 5,
    "start_time": "2025-06-26T14:59:55.064Z"
   },
   {
    "duration": 1703,
    "start_time": "2025-06-26T15:00:19.759Z"
   },
   {
    "duration": 4,
    "start_time": "2025-06-26T15:00:21.464Z"
   },
   {
    "duration": 15,
    "start_time": "2025-06-26T15:00:22.855Z"
   },
   {
    "duration": 8,
    "start_time": "2025-06-26T15:00:23.280Z"
   },
   {
    "duration": 15,
    "start_time": "2025-06-26T15:00:23.712Z"
   },
   {
    "duration": 6,
    "start_time": "2025-06-26T15:00:24.255Z"
   },
   {
    "duration": 5,
    "start_time": "2025-06-26T15:00:24.919Z"
   },
   {
    "duration": 5,
    "start_time": "2025-06-26T15:00:25.353Z"
   },
   {
    "duration": 14,
    "start_time": "2025-06-26T15:00:26.127Z"
   },
   {
    "duration": 7,
    "start_time": "2025-06-26T15:00:26.710Z"
   },
   {
    "duration": 7,
    "start_time": "2025-06-26T15:00:32.641Z"
   },
   {
    "duration": 115,
    "start_time": "2025-06-26T15:00:34.766Z"
   },
   {
    "duration": 9,
    "start_time": "2025-06-26T15:00:36.013Z"
   },
   {
    "duration": 93,
    "start_time": "2025-06-26T15:00:38.183Z"
   },
   {
    "duration": 17,
    "start_time": "2025-06-26T15:00:39.152Z"
   },
   {
    "duration": 28,
    "start_time": "2025-06-26T15:00:40.247Z"
   },
   {
    "duration": 4,
    "start_time": "2025-06-26T15:00:49.374Z"
   },
   {
    "duration": 8,
    "start_time": "2025-06-26T15:01:12.058Z"
   },
   {
    "duration": 5,
    "start_time": "2025-06-26T15:01:12.495Z"
   },
   {
    "duration": 18,
    "start_time": "2025-06-26T15:01:15.010Z"
   },
   {
    "duration": 13,
    "start_time": "2025-06-26T15:01:16.579Z"
   },
   {
    "duration": 9,
    "start_time": "2025-06-26T15:02:00.302Z"
   },
   {
    "duration": 18,
    "start_time": "2025-06-26T15:02:01.640Z"
   },
   {
    "duration": 13,
    "start_time": "2025-06-26T15:02:02.797Z"
   },
   {
    "duration": 11,
    "start_time": "2025-06-26T15:02:03.836Z"
   },
   {
    "duration": 230,
    "start_time": "2025-06-26T15:02:08.781Z"
   },
   {
    "duration": 21,
    "start_time": "2025-06-26T15:05:27.975Z"
   },
   {
    "duration": 22,
    "start_time": "2025-06-26T15:08:39.871Z"
   },
   {
    "duration": 10,
    "start_time": "2025-06-26T15:08:40.734Z"
   },
   {
    "duration": 13,
    "start_time": "2025-06-26T15:08:57.435Z"
   },
   {
    "duration": 11,
    "start_time": "2025-06-26T15:17:31.714Z"
   },
   {
    "duration": 24,
    "start_time": "2025-06-26T15:17:35.142Z"
   },
   {
    "duration": 13,
    "start_time": "2025-06-26T15:17:36.073Z"
   },
   {
    "duration": 10,
    "start_time": "2025-06-26T15:17:40.635Z"
   },
   {
    "duration": 248,
    "start_time": "2025-06-26T15:17:42.263Z"
   },
   {
    "duration": 6,
    "start_time": "2025-06-26T15:19:20.211Z"
   },
   {
    "duration": 71,
    "start_time": "2025-06-26T15:19:20.588Z"
   },
   {
    "duration": 3,
    "start_time": "2025-06-26T15:19:31.504Z"
   },
   {
    "duration": 5,
    "start_time": "2025-06-26T15:19:32.071Z"
   },
   {
    "duration": 13,
    "start_time": "2025-06-26T15:21:21.286Z"
   },
   {
    "duration": 13,
    "start_time": "2025-06-26T15:30:52.931Z"
   },
   {
    "duration": 98,
    "start_time": "2025-06-26T16:04:23.477Z"
   },
   {
    "duration": 68,
    "start_time": "2025-06-26T16:04:41.620Z"
   },
   {
    "duration": 16,
    "start_time": "2025-06-26T16:04:50.708Z"
   },
   {
    "duration": 16,
    "start_time": "2025-06-26T16:05:00.179Z"
   },
   {
    "duration": 22,
    "start_time": "2025-06-26T16:06:24.056Z"
   },
   {
    "duration": 9,
    "start_time": "2025-06-26T16:07:57.200Z"
   },
   {
    "duration": 20,
    "start_time": "2025-06-26T16:08:01.575Z"
   },
   {
    "duration": 23,
    "start_time": "2025-06-26T16:08:02.984Z"
   },
   {
    "duration": 10,
    "start_time": "2025-06-26T16:08:06.027Z"
   },
   {
    "duration": 11,
    "start_time": "2025-06-26T16:08:26.111Z"
   },
   {
    "duration": 1221,
    "start_time": "2025-06-26T16:08:35.878Z"
   },
   {
    "duration": 8,
    "start_time": "2025-06-26T16:08:55.144Z"
   },
   {
    "duration": 10,
    "start_time": "2025-06-26T16:09:00.147Z"
   },
   {
    "duration": 25,
    "start_time": "2025-06-26T16:09:00.549Z"
   },
   {
    "duration": 7,
    "start_time": "2025-06-26T16:09:00.982Z"
   },
   {
    "duration": 11,
    "start_time": "2025-06-26T16:09:01.404Z"
   },
   {
    "duration": 18,
    "start_time": "2025-06-26T16:09:02.071Z"
   },
   {
    "duration": 10,
    "start_time": "2025-06-26T16:09:29.163Z"
   },
   {
    "duration": 18,
    "start_time": "2025-06-26T16:09:34.474Z"
   },
   {
    "duration": 12,
    "start_time": "2025-06-26T16:09:37.702Z"
   },
   {
    "duration": 10,
    "start_time": "2025-06-26T16:09:41.069Z"
   },
   {
    "duration": 2,
    "start_time": "2025-06-26T16:09:47.739Z"
   },
   {
    "duration": 288,
    "start_time": "2025-06-26T16:09:48.908Z"
   },
   {
    "duration": 413,
    "start_time": "2025-06-26T22:04:08.961Z"
   },
   {
    "duration": 61,
    "start_time": "2025-06-26T22:07:56.081Z"
   },
   {
    "duration": 514,
    "start_time": "2025-06-26T22:09:08.647Z"
   },
   {
    "duration": 427,
    "start_time": "2025-06-26T22:09:16.332Z"
   },
   {
    "duration": 56,
    "start_time": "2025-06-26T22:09:16.761Z"
   },
   {
    "duration": 15,
    "start_time": "2025-06-26T22:09:16.818Z"
   },
   {
    "duration": 14,
    "start_time": "2025-06-26T22:09:16.837Z"
   },
   {
    "duration": 8,
    "start_time": "2025-06-26T22:09:16.853Z"
   },
   {
    "duration": 11,
    "start_time": "2025-06-26T22:09:16.863Z"
   },
   {
    "duration": 15,
    "start_time": "2025-06-26T22:09:16.876Z"
   },
   {
    "duration": 4,
    "start_time": "2025-06-26T22:09:16.892Z"
   },
   {
    "duration": 26,
    "start_time": "2025-06-26T22:09:16.898Z"
   },
   {
    "duration": 3,
    "start_time": "2025-06-26T22:09:16.927Z"
   },
   {
    "duration": 478,
    "start_time": "2025-06-26T22:09:16.932Z"
   },
   {
    "duration": 105,
    "start_time": "2025-06-26T22:09:17.412Z"
   },
   {
    "duration": 0,
    "start_time": "2025-06-26T22:09:17.519Z"
   },
   {
    "duration": 0,
    "start_time": "2025-06-26T22:09:17.520Z"
   },
   {
    "duration": 0,
    "start_time": "2025-06-26T22:09:17.522Z"
   },
   {
    "duration": 0,
    "start_time": "2025-06-26T22:09:17.523Z"
   },
   {
    "duration": 0,
    "start_time": "2025-06-26T22:09:17.524Z"
   },
   {
    "duration": 0,
    "start_time": "2025-06-26T22:09:17.525Z"
   },
   {
    "duration": 0,
    "start_time": "2025-06-26T22:09:17.540Z"
   },
   {
    "duration": 0,
    "start_time": "2025-06-26T22:09:17.542Z"
   },
   {
    "duration": 0,
    "start_time": "2025-06-26T22:09:17.548Z"
   },
   {
    "duration": 0,
    "start_time": "2025-06-26T22:09:17.550Z"
   },
   {
    "duration": 0,
    "start_time": "2025-06-26T22:09:17.551Z"
   },
   {
    "duration": 0,
    "start_time": "2025-06-26T22:09:17.552Z"
   },
   {
    "duration": 0,
    "start_time": "2025-06-26T22:09:17.553Z"
   },
   {
    "duration": 0,
    "start_time": "2025-06-26T22:09:17.555Z"
   },
   {
    "duration": 0,
    "start_time": "2025-06-26T22:09:17.556Z"
   },
   {
    "duration": 0,
    "start_time": "2025-06-26T22:09:17.557Z"
   },
   {
    "duration": 0,
    "start_time": "2025-06-26T22:09:17.558Z"
   },
   {
    "duration": 0,
    "start_time": "2025-06-26T22:09:17.559Z"
   },
   {
    "duration": 0,
    "start_time": "2025-06-26T22:09:17.561Z"
   },
   {
    "duration": 0,
    "start_time": "2025-06-26T22:09:17.562Z"
   },
   {
    "duration": 0,
    "start_time": "2025-06-26T22:09:17.565Z"
   },
   {
    "duration": 0,
    "start_time": "2025-06-26T22:09:17.568Z"
   },
   {
    "duration": 0,
    "start_time": "2025-06-26T22:09:17.569Z"
   },
   {
    "duration": 0,
    "start_time": "2025-06-26T22:09:17.572Z"
   },
   {
    "duration": 0,
    "start_time": "2025-06-26T22:09:17.574Z"
   },
   {
    "duration": 0,
    "start_time": "2025-06-26T22:09:17.576Z"
   },
   {
    "duration": 0,
    "start_time": "2025-06-26T22:09:17.579Z"
   },
   {
    "duration": 0,
    "start_time": "2025-06-26T22:09:17.581Z"
   },
   {
    "duration": 0,
    "start_time": "2025-06-26T22:09:17.583Z"
   },
   {
    "duration": 19,
    "start_time": "2025-06-26T22:10:05.740Z"
   },
   {
    "duration": 24,
    "start_time": "2025-06-26T22:12:57.735Z"
   },
   {
    "duration": 16,
    "start_time": "2025-06-26T22:14:01.984Z"
   },
   {
    "duration": 9,
    "start_time": "2025-06-26T22:14:19.012Z"
   },
   {
    "duration": 18,
    "start_time": "2025-06-26T22:15:44.306Z"
   }
  ],
  "colab": {
   "provenance": [],
   "toc_visible": true
  },
  "kernelspec": {
   "display_name": "Python 3 (ipykernel)",
   "language": "python",
   "name": "python3"
  },
  "language_info": {
   "codemirror_mode": {
    "name": "ipython",
    "version": 3
   },
   "file_extension": ".py",
   "mimetype": "text/x-python",
   "name": "python",
   "nbconvert_exporter": "python",
   "pygments_lexer": "ipython3",
   "version": "3.9.7"
  },
  "toc": {
   "base_numbering": 1,
   "nav_menu": {},
   "number_sections": true,
   "sideBar": true,
   "skip_h1_title": true,
   "title_cell": "Table of Contents",
   "title_sidebar": "Contents",
   "toc_cell": false,
   "toc_position": {},
   "toc_section_display": true,
   "toc_window_display": false
  }
 },
 "nbformat": 4,
 "nbformat_minor": 5
}
